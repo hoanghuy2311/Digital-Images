{
  "cells": [
    {
      "cell_type": "markdown",
      "id": "5dd8b8d4",
      "metadata": {
        "id": "5dd8b8d4"
      },
      "source": [
        "# Họ và Tên: Hoàng Quốc Huy\n",
        "# MSSV:2374802013575"
      ]
    },
    {
      "cell_type": "markdown",
      "id": "6bd5da59",
      "metadata": {
        "id": "6bd5da59"
      },
      "source": [
        "### Câu 1 (2 điểm): Cho một ảnh bất kỳ (tên ảnh do sinh viên tự đặt, ví dụ: `my_image.jpg`) và thực hiện các yêu cầu sau:\n",
        "\n",
        "* Viết chương trình sử dụng median filter để làm mịn ảnh. (0.5 điểm)  \n",
        "* Viết chương trình sử dụng Sobel filter để xác định biên của hình ảnh. (0.5 điểm)  \n",
        "* Đổi màu ảnh bằng cách hoán đổi thứ tự các kênh màu (ví dụ: BGR → GRB hoặc GBR...) và lưu thành tên dạng `[ten_anh]_swapped.jpg`. (0.5 điểm)  \n",
        "* Chuyển ảnh sang không gian màu LAB và tách riêng 3 kênh L, A, B, lưu thành ảnh grayscale tương ứng (`[ten_anh]_L.jpg`, `[ten_anh]_A.jpg`, `[ten_anh]_B.jpg`). (0.5 điểm)\n"
      ]
    },
    {
      "cell_type": "code",
      "execution_count": 1,
      "id": "17c2e31d",
      "metadata": {
        "colab": {
          "base_uri": "https://localhost:8080/"
        },
        "id": "17c2e31d",
        "outputId": "8f24780f-f355-45df-c76c-a0127bc0a373"
      },
      "outputs": [
        {
          "output_type": "stream",
          "name": "stdout",
          "text": [
            "Xử lý hoàn tất. Các ảnh đã được lưu.\n"
          ]
        }
      ],
      "source": [
        "import cv2\n",
        "import numpy as np\n",
        "import os\n",
        "\n",
        "# Đặt tên ảnh\n",
        "image_name = \"GIF.jpg\"\n",
        "\n",
        "# Đọc ảnh gốc\n",
        "image = cv2.imread(image_name)\n",
        "\n",
        "if image is None:\n",
        "    print(f\"Không tìm thấy ảnh '{image_name}'. Hãy chắc chắn ảnh tồn tại trong thư mục.\")\n",
        "    exit()\n",
        "\n",
        "# --- 1. Làm mịn ảnh với median filter ---\n",
        "median_filtered = cv2.medianBlur(image, 5)\n",
        "cv2.imwrite(\"{}_median.jpg\".format(image_name.split('.')[0]), median_filtered)\n",
        "\n",
        "# --- 2. Dò biên ảnh với Sobel filter ---\n",
        "gray_image = cv2.cvtColor(image, cv2.COLOR_BGR2GRAY)\n",
        "\n",
        "sobel_x = cv2.Sobel(gray_image, cv2.CV_64F, 1, 0, ksize=3)\n",
        "sobel_y = cv2.Sobel(gray_image, cv2.CV_64F, 0, 1, ksize=3)\n",
        "sobel = cv2.magnitude(sobel_x, sobel_y)\n",
        "sobel = np.uint8(np.clip(sobel, 0, 255))\n",
        "\n",
        "cv2.imwrite(\"{}_sobel.jpg\".format(image_name.split('.')[0]), sobel)\n",
        "\n",
        "# --- 3. Đổi màu bằng cách hoán đổi kênh màu ---\n",
        "# VD: từ BGR → GRB\n",
        "swapped = image[:, :, [1, 2, 0]]  # GRB\n",
        "swapped_filename = \"{}_swapped.jpg\".format(image_name.split('.')[0])\n",
        "cv2.imwrite(swapped_filename, swapped)\n",
        "\n",
        "# --- 4. Chuyển sang không gian màu LAB và tách kênh ---\n",
        "lab_image = cv2.cvtColor(image, cv2.COLOR_BGR2LAB)\n",
        "L, A, B = cv2.split(lab_image)\n",
        "\n",
        "cv2.imwrite(\"{}_L.jpg\".format(image_name.split('.')[0]), L)\n",
        "cv2.imwrite(\"{}_A.jpg\".format(image_name.split('.')[0]), A)\n",
        "cv2.imwrite(\"{}_B.jpg\".format(image_name.split('.')[0]), B)\n",
        "\n",
        "print(\"Xử lý hoàn tất. Các ảnh đã được lưu.\")\n"
      ]
    },
    {
      "cell_type": "markdown",
      "id": "91c31f19",
      "metadata": {
        "id": "91c31f19"
      },
      "source": [
        "### Câu 2 (4 điểm) Viết một chương trình Python sử dụng OpenCV để tạo menu tương tác cho phép người dùng chọn các kỹ thuật lọc và xử lý ảnh nâng cao từ một danh sách, áp dụng đồng thời cho nhiều ảnh.\n",
        "\n",
        "### Yêu cầu:\n",
        "\n",
        "1. Menu gồm:  \n",
        "* Gaussian Blur (kernel size ngẫu nhiên lẻ từ 3 đến 11) (0.5 điểm)  \n",
        "* Median Blur (kernel size ngẫu nhiên lẻ từ 3 đến 11) (0.5 điểm)  \n",
        "* Bilateral Filter (tham số ngẫu nhiên) (0.5 điểm)  \n",
        "* Canny Edge Detection (thresholds ngẫu nhiên 50–150) (0.5 điểm)  \n",
        "* Erosion (kernel 2x2 đến 5x5 ngẫu nhiên) (0.5 điểm)  \n",
        "* Dilation (tương tự Erosion) (0.5 điểm)\n",
        "\n",
        "2. Chương trình xử lý đồng thời 3 ảnh bất kỳ do sinh viên tự chọn (có thể chọn bằng đường dẫn file hoặc nhập tên ảnh tùy ý). (0.5 điểm)\n",
        "\n",
        "3. Phím tương ứng để kích hoạt các phương pháp xử lý:  \n",
        "* B: Gaussian Blur  \n",
        "* M: Median Blur  \n",
        "* F: Bilateral Filter  \n",
        "* E: Canny Edge  \n",
        "* R: Erosion  \n",
        "* D: Dilation (0.5 điểm)\n",
        "\n",
        "4. Lưu file kết quả với định dạng: `result_[phương pháp]_[tên ảnh gốc].jpg`  \n",
        "   Ví dụ: `result_blur_dog.jpg`, `result_canny_image2.jpg` (0.5 điểm)\n"
      ]
    },
    {
      "cell_type": "code",
      "execution_count": 1,
      "id": "2c5b707b",
      "metadata": {
        "colab": {
          "base_uri": "https://localhost:8080/"
        },
        "id": "2c5b707b",
        "outputId": "0a77efdb-e58b-4b1d-8b76-d3083da2afe9"
      },
      "outputs": [
        {
          "output_type": "stream",
          "name": "stdout",
          "text": [
            "Nhập tên hoặc đường dẫn ảnh thứ 1: London.jpg\n",
            "Nhập tên hoặc đường dẫn ảnh thứ 2: TPHCM.jpg\n",
            "Nhập tên hoặc đường dẫn ảnh thứ 3: Vietnam.jpg\n",
            "\n",
            "===== MENU XỬ LÝ ẢNH =====\n",
            "Nhấn phím để chọn phương pháp xử lý:\n",
            "B - Gaussian Blur\n",
            "M - Median Blur\n",
            "F - Bilateral Filter\n",
            "E - Canny Edge Detection\n",
            "R - Erosion\n",
            "D - Dilation\n",
            "Q - Thoát\n",
            "===========================\n",
            "\n",
            "Chọn phím xử lý (B/M/F/E/R/D hoặc Q để thoát): Q\\B\n",
            "Phím không hợp lệ. Vui lòng chọn lại.\n",
            "Chọn phím xử lý (B/M/F/E/R/D hoặc Q để thoát): B\n",
            "→ Đã lưu: result_blur_k11_London.jpg\n",
            "→ Đã lưu: result_blur_k5_TPHCM.jpg\n",
            "→ Đã lưu: result_blur_k5_Vietnam.jpg\n",
            "Chọn phím xử lý (B/M/F/E/R/D hoặc Q để thoát): M\n",
            "→ Đã lưu: result_median_k5_London.jpg\n",
            "→ Đã lưu: result_median_k9_TPHCM.jpg\n",
            "→ Đã lưu: result_median_k7_Vietnam.jpg\n",
            "Chọn phím xử lý (B/M/F/E/R/D hoặc Q để thoát): Q\n",
            "Thoát chương trình.\n"
          ]
        }
      ],
      "source": [
        "import cv2\n",
        "import numpy as np\n",
        "import random\n",
        "import os\n",
        "\n",
        "# ==== 1. Danh sách ảnh đầu vào ====\n",
        "image_paths = [\n",
        "    input(\"Nhập tên hoặc đường dẫn ảnh thứ 1: \"),\n",
        "    input(\"Nhập tên hoặc đường dẫn ảnh thứ 2: \"),\n",
        "    input(\"Nhập tên hoặc đường dẫn ảnh thứ 3: \")\n",
        "]\n",
        "\n",
        "# ==== 2. Đọc ảnh ====\n",
        "images = []\n",
        "image_names = []\n",
        "\n",
        "for path in image_paths:\n",
        "    img = cv2.imread(path)\n",
        "    if img is None:\n",
        "        print(f\"Không đọc được ảnh: {path}\")\n",
        "        exit()\n",
        "    images.append(img)\n",
        "    image_names.append(os.path.splitext(os.path.basename(path))[0])\n",
        "\n",
        "# ==== 3. Hàm xử lý ảnh tương ứng với từng phím ====\n",
        "def apply_gaussian_blur(img):\n",
        "    k = random.choice([3, 5, 7, 9, 11])\n",
        "    return cv2.GaussianBlur(img, (k, k), 0), f\"blur_k{k}\"\n",
        "\n",
        "def apply_median_blur(img):\n",
        "    k = random.choice([3, 5, 7, 9, 11])\n",
        "    return cv2.medianBlur(img, k), f\"median_k{k}\"\n",
        "\n",
        "def apply_bilateral_filter(img):\n",
        "    d = random.randint(5, 15)\n",
        "    sigma_color = random.randint(50, 150)\n",
        "    sigma_space = random.randint(50, 150)\n",
        "    return cv2.bilateralFilter(img, d, sigma_color, sigma_space), f\"bilateral_{d}_{sigma_color}_{sigma_space}\"\n",
        "\n",
        "def apply_canny(img):\n",
        "    gray = cv2.cvtColor(img, cv2.COLOR_BGR2GRAY)\n",
        "    t1 = random.randint(50, 100)\n",
        "    t2 = random.randint(t1 + 10, 150)\n",
        "    edges = cv2.Canny(gray, t1, t2)\n",
        "    # Chuyển ảnh kết quả sang BGR để lưu\n",
        "    edges_bgr = cv2.cvtColor(edges, cv2.COLOR_GRAY2BGR)\n",
        "    return edges_bgr, f\"canny_{t1}_{t2}\"\n",
        "\n",
        "def apply_erosion(img):\n",
        "    k = random.choice([2, 3, 4, 5])\n",
        "    kernel = np.ones((k, k), np.uint8)\n",
        "    eroded = cv2.erode(img, kernel, iterations=1)\n",
        "    return eroded, f\"erosion_k{k}\"\n",
        "\n",
        "def apply_dilation(img):\n",
        "    k = random.choice([2, 3, 4, 5])\n",
        "    kernel = np.ones((k, k), np.uint8)\n",
        "    dilated = cv2.dilate(img, kernel, iterations=1)\n",
        "    return dilated, f\"dilation_k{k}\"\n",
        "\n",
        "# ==== 4. Menu xử lý ====\n",
        "print(\"\"\"\n",
        "===== MENU XỬ LÝ ẢNH =====\n",
        "Nhấn phím để chọn phương pháp xử lý:\n",
        "B - Gaussian Blur\n",
        "M - Median Blur\n",
        "F - Bilateral Filter\n",
        "E - Canny Edge Detection\n",
        "R - Erosion\n",
        "D - Dilation\n",
        "Q - Thoát\n",
        "===========================\n",
        "\"\"\")\n",
        "\n",
        "# ==== 5. Vòng lặp chọn menu ====\n",
        "while True:\n",
        "    key = input(\"Chọn phím xử lý (B/M/F/E/R/D hoặc Q để thoát): \").upper()\n",
        "\n",
        "    if key == \"Q\":\n",
        "        print(\"Thoát chương trình.\")\n",
        "        break\n",
        "\n",
        "    method = None\n",
        "    label = \"\"\n",
        "\n",
        "    if key == \"B\":\n",
        "        method = apply_gaussian_blur\n",
        "    elif key == \"M\":\n",
        "        method = apply_median_blur\n",
        "    elif key == \"F\":\n",
        "        method = apply_bilateral_filter\n",
        "    elif key == \"E\":\n",
        "        method = apply_canny\n",
        "    elif key == \"R\":\n",
        "        method = apply_erosion\n",
        "    elif key == \"D\":\n",
        "        method = apply_dilation\n",
        "    else:\n",
        "        print(\"Phím không hợp lệ. Vui lòng chọn lại.\")\n",
        "        continue\n",
        "\n",
        "    # Áp dụng xử lý cho từng ảnh\n",
        "    for idx, img in enumerate(images):\n",
        "        processed, label = method(img)\n",
        "        filename = f\"result_{label}_{image_names[idx]}.jpg\"\n",
        "        cv2.imwrite(filename, processed)\n",
        "        print(f\"→ Đã lưu: {filename}\")\n"
      ]
    },
    {
      "cell_type": "markdown",
      "id": "f002add2",
      "metadata": {
        "id": "f002add2"
      },
      "source": [
        "### Câu 3 (4 điểm) Viết một chương trình Python để xử lý 3 ảnh bất kỳ do sinh viên tự chọn.\n",
        "\n",
        "* Tăng kích thước ảnh đầu tiên thêm 35 pixel ở mỗi cạnh. (0.5 điểm)  \n",
        "* Xoay ảnh thứ hai 135 độ và lật ngang. (0.5 điểm)  \n",
        "* Tăng kích thước ảnh thứ ba lên 5 lần và làm mịn bằng Gaussian blur kernel 9x9. (1.5 điểm)  \n",
        "* Thay đổi độ sáng và độ tương phản ảnh thứ ba bằng công thức:\n",
        "\n",
        "$$\n",
        "I_{out}(x, y) = \\alpha \\cdot I_{in}(x, y) + \\beta\n",
        "$$\n",
        "\n",
        "Trong đó:  \n",
        "\n",
        "$$\n",
        "\\alpha \\in [0.5, 2.0], \\quad \\beta \\in [-50, 50]\n",
        "$$\n",
        "\n",
        "Giá trị đầu ra cần được giới hạn trong khoảng [0, 255] bằng công thức:\n",
        "\n",
        "$$\n",
        "I_{out}(x, y) = \\text{clip}(I_{out}(x, y), 0, 255)\n",
        "$$\n"
      ]
    },
    {
      "cell_type": "code",
      "execution_count": 2,
      "id": "a4c1ae83",
      "metadata": {
        "colab": {
          "base_uri": "https://localhost:8080/"
        },
        "id": "a4c1ae83",
        "outputId": "a2b27b84-2bfa-4deb-a5b0-fae8ab20a2a6"
      },
      "outputs": [
        {
          "output_type": "stream",
          "name": "stdout",
          "text": [
            "Xử lý hoàn tất. Các ảnh kết quả đã được lưu.\n"
          ]
        }
      ],
      "source": [
        "import cv2\n",
        "import numpy as np\n",
        "\n",
        "# ---- Đặt tên 3 ảnh đầu vào ----\n",
        "img1_path = \"London.jpg\"\n",
        "img2_path = \"TPHCM.jpg\"\n",
        "img3_path = \"Vietnam.jpg\"\n",
        "\n",
        "# ---- Đọc ảnh ----\n",
        "img1 = cv2.imread(img1_path)\n",
        "img2 = cv2.imread(img2_path)\n",
        "img3 = cv2.imread(img3_path)\n",
        "\n",
        "if img1 is None or img2 is None or img3 is None:\n",
        "    print(\"Không thể đọc một trong các ảnh. Kiểm tra lại đường dẫn và tên ảnh.\")\n",
        "    exit()\n",
        "\n",
        "# === 1. Tăng kích thước ảnh đầu tiên thêm 35 pixel mỗi cạnh ===\n",
        "bordered_img1 = cv2.copyMakeBorder(\n",
        "    img1,\n",
        "    top=35, bottom=35,\n",
        "    left=35, right=35,\n",
        "    borderType=cv2.BORDER_CONSTANT,\n",
        "    value=[0, 0, 0]  # màu đen\n",
        ")\n",
        "cv2.imwrite(\"image1_bordered.jpg\", bordered_img1)\n",
        "\n",
        "# === 2. Xoay ảnh thứ hai 135 độ và lật ngang ===\n",
        "(h2, w2) = img2.shape[:2]\n",
        "center = (w2 // 2, h2 // 2)\n",
        "M = cv2.getRotationMatrix2D(center, 135, 1.0)\n",
        "rotated_img2 = cv2.warpAffine(img2, M, (w2, h2))\n",
        "\n",
        "# Lật ngang (flip theo trục y)\n",
        "flipped_rotated_img2 = cv2.flip(rotated_img2, 1)\n",
        "cv2.imwrite(\"image2_rotated_flipped.jpg\", flipped_rotated_img2)\n",
        "\n",
        "# === 3. Tăng kích thước ảnh thứ ba gấp 5 lần và làm mịn bằng Gaussian Blur ===\n",
        "resized_img3 = cv2.resize(img3, None, fx=5.0, fy=5.0, interpolation=cv2.INTER_LINEAR)\n",
        "blurred_img3 = cv2.GaussianBlur(resized_img3, (9, 9), 0)\n",
        "cv2.imwrite(\"image3_resized_blurred.jpg\", blurred_img3)\n",
        "\n",
        "# === 4. Thay đổi độ sáng và độ tương phản ảnh thứ ba ===\n",
        "# Chọn giá trị alpha và beta tùy ý trong khoảng\n",
        "alpha = 1.5   # độ tương phản (0.5 đến 2.0)\n",
        "beta = 30     # độ sáng (-50 đến 50)\n",
        "\n",
        "# Dùng hàm cv2.convertScaleAbs để xử lý và giới hạn kết quả [0, 255]\n",
        "bright_contrast_img3 = cv2.convertScaleAbs(blurred_img3, alpha=alpha, beta=beta)\n",
        "cv2.imwrite(\"image3_bright_contrast.jpg\", bright_contrast_img3)\n",
        "\n",
        "print(\"Xử lý hoàn tất. Các ảnh kết quả đã được lưu.\")"
      ]
    },
    {
      "cell_type": "markdown",
      "id": "f410dddd",
      "metadata": {
        "id": "f410dddd"
      },
      "source": [
        "# Chúc các bạn làm bài may mắn, hi vọng mọi người qua môn tất cả được 10."
      ]
    }
  ],
  "metadata": {
    "language_info": {
      "name": "python"
    },
    "colab": {
      "provenance": []
    },
    "kernelspec": {
      "name": "python3",
      "display_name": "Python 3"
    }
  },
  "nbformat": 4,
  "nbformat_minor": 5
}